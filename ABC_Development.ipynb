{
 "cells": [
  {
   "cell_type": "code",
   "execution_count": null,
   "metadata": {},
   "outputs": [],
   "source": [
    "#Load modules\n",
    "import pandas as pd\n",
    "import numpy as np\n",
    "import matplotlib.pyplot as plt"
   ]
  },
  {
   "cell_type": "code",
   "execution_count": null,
   "metadata": {},
   "outputs": [],
   "source": [
    "%matplotlib notebook\n",
    "%matplotlib notebook"
   ]
  },
  {
   "cell_type": "code",
   "execution_count": null,
   "metadata": {},
   "outputs": [],
   "source": [
    "#Load data\n",
    "file_path = '/home/NearingLab/data/camels_data/basin_dataset_public_v1p2/basin_mean_forcing/daymet/09/05062500_lump_cida_forcing_leap.txt'\n",
    "df = pd.read_csv(file_path, sep = '\\s+', header = 3)\n",
    "#plt.plot(df['prcp(mm/day)'])\n",
    "prcp = df['prcp(mm/day)'].values"
   ]
  },
  {
   "cell_type": "code",
   "execution_count": null,
   "metadata": {},
   "outputs": [],
   "source": [
    "file_path2 = '/home/NearingLab/data/camels_data/basin_dataset_public_v1p2/usgs_streamflow/09/05062500_streamflow_qc.txt'\n",
    "col_names = ['basin', 'Year', 'Mnth', 'Day', 'QObs', 'flag']\n",
    "df2 = pd.read_csv(file_path2, sep = '\\s+', header = None, names = col_names)"
   ]
  },
  {
   "cell_type": "code",
   "execution_count": null,
   "metadata": {},
   "outputs": [],
   "source": [
    "#Define model\n",
    "a = 0.2\n",
    "b = 0.75\n",
    "c = 0.01\n",
    "groundwater = np.full(prcp.shape,0)\n",
    "streamflow = np.full(prcp.shape,np.nan)\n",
    "for t in range(1, prcp.shape[0]):\n",
    "    streamflow[t] = (1-a-b)*prcp[t]+(c*groundwater[t-1])\n",
    "    groundwater[t] = (1-c)*groundwater[t-1]+(a*prcp[t])"
   ]
  },
  {
   "cell_type": "code",
   "execution_count": null,
   "metadata": {
    "scrolled": false
   },
   "outputs": [],
   "source": [
    "fig = plt.figure()\n",
    "plt.plot(streamflow)\n",
    "plt.ylabel('Streamflow (mm/day)')\n",
    "plt.xlabel('Time (day)')\n",
    "plt.title('09 Basin 05062500')"
   ]
  },
  {
   "cell_type": "code",
   "execution_count": null,
   "metadata": {},
   "outputs": [],
   "source": [
    "df2['QObs_conv'] = df2['QObs'] * ((304.8)**3) * 86400 / 2418014854000000\n",
    "plt.plot(df2['QObs_conv'])\n",
    "plt.ylabel('Streamflow (mm/day)')\n",
    "plt.xlabel('Time (day)')\n",
    "plt.title('09 Basin 05062500')"
   ]
  },
  {
   "cell_type": "code",
   "execution_count": null,
   "metadata": {},
   "outputs": [],
   "source": []
  },
  {
   "cell_type": "code",
   "execution_count": null,
   "metadata": {},
   "outputs": [],
   "source": []
  }
 ],
 "metadata": {
  "kernelspec": {
   "display_name": "Python 3",
   "language": "python",
   "name": "python3"
  },
  "language_info": {
   "codemirror_mode": {
    "name": "ipython",
    "version": 3
   },
   "file_extension": ".py",
   "mimetype": "text/x-python",
   "name": "python",
   "nbconvert_exporter": "python",
   "pygments_lexer": "ipython3",
   "version": "3.8.3"
  }
 },
 "nbformat": 4,
 "nbformat_minor": 4
}
